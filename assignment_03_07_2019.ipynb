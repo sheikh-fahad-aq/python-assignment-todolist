{
 "cells": [
  {
   "cell_type": "code",
   "execution_count": null,
   "metadata": {},
   "outputs": [],
   "source": [
    "list = []\n",
    "start = input(\"For Enter Todo list program , type Todo in this format Todo\")\n",
    "while start == \"Todo\":\n",
    "    ask = input(\"Enter 1 for add , 2 for edit , 3 for delete , 4 for view Todo list\")\n",
    "    if ask == \"1\":\n",
    "        addText =  input(\"Enter some text to add in the Todo list\")\n",
    "        list.append(addText)\n",
    "        print(list)\n",
    "    elif ask == \"2\":\n",
    "        textIndex = int(input(\"Enter index of the Todo list\"))\n",
    "        updateText = input(\"Enter Text to update on that index\")\n",
    "        list[textIndex] = updateText\n",
    "        print(list)\n",
    "    elif ask == \"3\":\n",
    "        textIndex = int(input(\"Enter index  for delete text in the Todo list\"))\n",
    "        del list[textIndex]\n",
    "        print(list)\n",
    "    else :\n",
    "        print(list)"
   ]
  }
 ],
 "metadata": {
  "kernelspec": {
   "display_name": "Python 3",
   "language": "python",
   "name": "python3"
  },
  "language_info": {
   "codemirror_mode": {
    "name": "ipython",
    "version": 3
   },
   "file_extension": ".py",
   "mimetype": "text/x-python",
   "name": "python",
   "nbconvert_exporter": "python",
   "pygments_lexer": "ipython3",
   "version": "3.7.3"
  }
 },
 "nbformat": 4,
 "nbformat_minor": 2
}
